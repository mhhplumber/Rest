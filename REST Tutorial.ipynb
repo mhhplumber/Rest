{
 "cells": [
  {
   "cell_type": "markdown",
   "metadata": {},
   "source": [
    "# RESTful APIs"
   ]
  },
  {
   "cell_type": "markdown",
   "metadata": {},
   "source": [
    "## What is REST?\n",
    "\n",
    "* REpresentational State Transfer\n",
    "* RESTful APIs almost always use HTTP (HyperText Transfer Protocol)\n",
    "* Lightweight and easy to use in any programming language\n",
    "* Resource based and stateless \n",
    "* Constitutes 70% of public APIs\n"
   ]
  },
  {
   "cell_type": "markdown",
   "metadata": {},
   "source": [
    "## Request Types\n",
    "* Get\n",
    "* Post"
   ]
  },
  {
   "cell_type": "markdown",
   "metadata": {},
   "source": [
    "## Forming your URL"
   ]
  },
  {
   "cell_type": "code",
   "execution_count": 13,
   "metadata": {
    "collapsed": true
   },
   "outputs": [],
   "source": [
    "import urllib.request as request\n",
    "import urllib.parse as parse"
   ]
  },
  {
   "cell_type": "markdown",
   "metadata": {},
   "source": [
    "* We’ll use urllib.parse.urlencode() to add arguments to our URLs\n",
    "* In short, these are appended to the URL in the form:\n",
    "  [URL]?arg=data&otherarg=other%data\n"
   ]
  },
  {
   "cell_type": "markdown",
   "metadata": {},
   "source": [
    "## Getting the data\n",
    "* We'll use urllib.request.urlopen() to fetch the data once the url is formed\n",
    "* refer to documentation for what arguments you want to define http://thecatapi.com/docs.html#get"
   ]
  },
  {
   "cell_type": "code",
   "execution_count": 94,
   "metadata": {},
   "outputs": [],
   "source": [
    "url = \"http://thecatapi.com/api/images/get?\"\n",
    "args = {'format' : 'html' , 'type' : 'gif'}\n",
    "data = parse.urlencode(args)\n",
    "response = request.urlopen(url+data)"
   ]
  },
  {
   "cell_type": "code",
   "execution_count": 95,
   "metadata": {},
   "outputs": [
    {
     "data": {
      "text/plain": [
       "'http://thecatapi.com/api/images/get?format=html&type=gif'"
      ]
     },
     "execution_count": 95,
     "metadata": {},
     "output_type": "execute_result"
    }
   ],
   "source": [
    "URL+data"
   ]
  },
  {
   "cell_type": "code",
   "execution_count": 96,
   "metadata": {},
   "outputs": [],
   "source": [
    "res = response.read().decode('UTF-8')"
   ]
  },
  {
   "cell_type": "code",
   "execution_count": 97,
   "metadata": {},
   "outputs": [
    {
     "data": {
      "text/html": [
       "<a target=\"_blank\" href=\"http://thecatapi.com/?id=7u2\"><img src=\"http://25.media.tumblr.com/tumblr_lhgvu6iVcF1qcn249o1_500.gif\"></a>\n"
      ],
      "text/plain": [
       "<IPython.core.display.HTML object>"
      ]
     },
     "execution_count": 97,
     "metadata": {},
     "output_type": "execute_result"
    }
   ],
   "source": [
    "from IPython.core.display import HTML\n",
    "HTML(res)"
   ]
  }
 ],
 "metadata": {
  "kernelspec": {
   "display_name": "Python 3",
   "language": "python",
   "name": "python3"
  },
  "language_info": {
   "codemirror_mode": {
    "name": "ipython",
    "version": 3
   },
   "file_extension": ".py",
   "mimetype": "text/x-python",
   "name": "python",
   "nbconvert_exporter": "python",
   "pygments_lexer": "ipython3",
   "version": "3.6.1"
  }
 },
 "nbformat": 4,
 "nbformat_minor": 2
}
